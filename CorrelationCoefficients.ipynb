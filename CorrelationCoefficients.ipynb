{
 "cells": [
  {
   "cell_type": "code",
   "execution_count": 1,
   "metadata": {},
   "outputs": [],
   "source": [
    "import pandas as pd\n",
    "from scipy import stats"
   ]
  },
  {
   "cell_type": "code",
   "execution_count": 2,
   "metadata": {},
   "outputs": [
    {
     "data": {
      "text/plain": [
       "0.0019"
      ]
     },
     "execution_count": 2,
     "metadata": {},
     "output_type": "execute_result"
    }
   ],
   "source": [
    "correlation ={}\n",
    "P ={}\n",
    "Thereshold = 0.05/27 # Bonferroni correction for multiple (27) hypothesis test each with 0.05 significance level\n",
    "Passed = []\n",
    "round(Thereshold,4)"
   ]
  },
  {
   "cell_type": "markdown",
   "metadata": {},
   "source": [
    "## NIH correlation Sex"
   ]
  },
  {
   "cell_type": "code",
   "execution_count": 3,
   "metadata": {},
   "outputs": [],
   "source": [
    "WantX_NIH = pd.read_csv(\"./NIH/results/WantX.csv\")\n"
   ]
  },
  {
   "cell_type": "code",
   "execution_count": 4,
   "metadata": {},
   "outputs": [
    {
     "name": "stdout",
     "output_type": "stream",
     "text": [
      "correlation coefficient per subgrpus\n",
      "NIH-Male Corr: (0.3049490702561459, 0.2890753869685472)\n",
      "NIH-Female Corr: (0.3049490702561458, 0.2890753869685472)\n"
     ]
    }
   ],
   "source": [
    "print(\"correlation coefficient per subgrpus\")\n",
    "print(\"NIH-Male Corr:\",stats.pearsonr(WantX_NIH[\"Gap_M_mean\"], WantX_NIH[\"%M\"]))\n",
    "print(\"NIH-Female Corr:\",stats.pearsonr(WantX_NIH[\"Gap_F_mean\"], WantX_NIH[\"%F\"]) )     \n",
    "\n",
    "corr = stats.pearsonr(WantX_NIH[\"Gap_F_mean\"], WantX_NIH[\"%F\"])"
   ]
  },
  {
   "cell_type": "code",
   "execution_count": 5,
   "metadata": {},
   "outputs": [
    {
     "name": "stdout",
     "output_type": "stream",
     "text": [
      "correlation coefficient per subgrous\n",
      "NIH M Corr: (0.3049490702561459, 0.2890753869685472)\n"
     ]
    }
   ],
   "source": [
    "print(\"correlation coefficient per subgrous\")\n",
    "GAPs = {\"Gap_M_mean\":\"%M\"}\n",
    "preferred_name = {\"%M\":\"Male\"}\n",
    "for key, values in GAPs.items():\n",
    "    noNAN = WantX_NIH[[key,values]].dropna(subset=[key])\n",
    "    corr = stats.pearsonr(noNAN[key], noNAN[values])\n",
    "    groupname = \"NIH:\"+preferred_name[values]\n",
    "    correlation[groupname] = round(corr[0],4)\n",
    "    P[groupname] = round(corr[1],4)\n",
    "    if round(corr[1],4) <=Thereshold:\n",
    "        Passed.append(groupname)\n",
    "        print(groupname+\"Pass the test\")\n",
    "    print(\"NIH \"+values[1:]+ \" Corr:\",stats.pearsonr(noNAN[key], noNAN[values]) )"
   ]
  },
  {
   "cell_type": "code",
   "execution_count": 6,
   "metadata": {},
   "outputs": [
    {
     "data": {
      "text/plain": [
       "{'NIH:Male': 0.3049}"
      ]
     },
     "execution_count": 6,
     "metadata": {},
     "output_type": "execute_result"
    }
   ],
   "source": [
    "correlation"
   ]
  },
  {
   "cell_type": "code",
   "execution_count": 7,
   "metadata": {},
   "outputs": [],
   "source": [
    "# print(\"correlation coefficient per all subgrpus aggregation\")\n",
    "\n",
    "# df_sex_NIH = pd.DataFrame(columns =[\"%\",\"Gap\"])\n",
    "# for key, values in GAPs.items():\n",
    "#     noNAN = WantX_NIH[[key,values]].dropna(subset=[key]).rename(columns={key:\"Gap\",values:\"%\"})\n",
    "#     df_sex_NIH = df_sex_NIH.append(noNAN,ignore_index=True)\n",
    "#     corr = stats.pearsonr(df_sex_NIH[\"Gap\"], df_sex_NIH[\"%\"])\n",
    "#     groupname = \"CXR \"+values[1:]\n",
    "#     correlation[groupname] = corr[0]\n",
    "#     P[groupname] = corr[1]\n",
    "\n",
    "# print(\"NIH-All Sex Corr:\",stats.pearsonr(df_sex_NIH[\"Gap\"], df_sex_NIH[\"%\"]) )"
   ]
  },
  {
   "cell_type": "markdown",
   "metadata": {},
   "source": [
    "## NIH correlation Age"
   ]
  },
  {
   "cell_type": "code",
   "execution_count": 8,
   "metadata": {},
   "outputs": [],
   "source": [
    "WantAge_NIH = pd.read_csv(\"./NIH/results/WantAge.csv\")\n"
   ]
  },
  {
   "cell_type": "code",
   "execution_count": 9,
   "metadata": {},
   "outputs": [
    {
     "name": "stdout",
     "output_type": "stream",
     "text": [
      "NIH 40-60 Corr: (-0.21969718921050338, 0.450438223485337)\n",
      "NIH 60-80 Corr: (0.11646172362182862, 0.6917463497740126)\n",
      "NIH 20-40 Corr: (0.30817646107122176, 0.30564710401382394)\n",
      "NIH 80- Corr: (0.13746548825616708, 0.6869080834307257)\n",
      "NIH 0-20 Corr: (0.025153878762898253, 0.9349911622253049)\n"
     ]
    }
   ],
   "source": [
    "GAPs = {\"Gap_40-60_mean\":\"%40-60\", \"Gap_60-80_mean\":\"%60-80\",\"Gap_20-40_mean\":\"%20-40\",\"Gap_80-_mean\":\"%80-\",\"Gap_0-20_mean\":\"%0-20\"}\n",
    "preferred_name = {\"%M\":\"Male\"}\n",
    "for key, values in GAPs.items():\n",
    "    noNAN = WantAge_NIH[[key,values]].dropna(subset=[key])\n",
    "    \n",
    "    corr = stats.pearsonr(noNAN[key], noNAN[values])\n",
    "    groupname = \"NIH:\"+values[1:]\n",
    "    correlation[groupname] = round(corr[0],4)\n",
    "    P[groupname] = round(corr[1],4)\n",
    "    if round(corr[1],4) <=Thereshold:\n",
    "        Passed.append(groupname)\n",
    "        print(groupname+\"Pass the test\")\n",
    "    print(\"NIH \"+values[1:]+ \" Corr:\",stats.pearsonr(noNAN[key], noNAN[values]) )"
   ]
  },
  {
   "cell_type": "code",
   "execution_count": 10,
   "metadata": {},
   "outputs": [
    {
     "data": {
      "text/plain": [
       "{'NIH:Male': 0.2891,\n",
       " 'NIH:40-60': 0.4504,\n",
       " 'NIH:60-80': 0.6917,\n",
       " 'NIH:20-40': 0.3056,\n",
       " 'NIH:80-': 0.6869,\n",
       " 'NIH:0-20': 0.935}"
      ]
     },
     "execution_count": 10,
     "metadata": {},
     "output_type": "execute_result"
    }
   ],
   "source": [
    "P"
   ]
  },
  {
   "cell_type": "code",
   "execution_count": 11,
   "metadata": {},
   "outputs": [
    {
     "data": {
      "text/plain": [
       "{'NIH:Male': 0.3049,\n",
       " 'NIH:40-60': -0.2197,\n",
       " 'NIH:60-80': 0.1165,\n",
       " 'NIH:20-40': 0.3082,\n",
       " 'NIH:80-': 0.1375,\n",
       " 'NIH:0-20': 0.0252}"
      ]
     },
     "execution_count": 11,
     "metadata": {},
     "output_type": "execute_result"
    }
   ],
   "source": [
    "correlation"
   ]
  },
  {
   "cell_type": "markdown",
   "metadata": {},
   "source": [
    "## CXP correlation Sex"
   ]
  },
  {
   "cell_type": "code",
   "execution_count": 12,
   "metadata": {},
   "outputs": [],
   "source": [
    "WantX_CXP = pd.read_csv(\"./CXP/results/WantX.csv\")"
   ]
  },
  {
   "cell_type": "code",
   "execution_count": 13,
   "metadata": {},
   "outputs": [
    {
     "name": "stdout",
     "output_type": "stream",
     "text": [
      "correlation coefficient per subgrous\n",
      "CXP M Corr: (0.36570523245472086, 0.19848721424802304)\n"
     ]
    }
   ],
   "source": [
    "print(\"correlation coefficient per subgrous\")\n",
    "GAPs = {\"Gap_M_mean\":\"%M\"}\n",
    "for key, values in GAPs.items():\n",
    "    noNAN = WantX_CXP[[key,values]].dropna(subset=[key])\n",
    "    corr = stats.pearsonr(noNAN[key], noNAN[values])\n",
    "    groupname = \"CXP:\"+preferred_name[values]\n",
    "    correlation[groupname] = round(corr[0],4)\n",
    "    P[groupname] = round(corr[1],4)\n",
    "    if round(corr[1],4) <=Thereshold:\n",
    "        Passed.append(groupname)\n",
    "        print(groupname+\"Pass the test\")\n",
    "    print(\"CXP \"+values[1:]+ \" Corr:\",stats.pearsonr(noNAN[key], noNAN[values]) )"
   ]
  },
  {
   "cell_type": "code",
   "execution_count": 14,
   "metadata": {},
   "outputs": [
    {
     "data": {
      "text/plain": [
       "{'NIH:Male': 0.2891,\n",
       " 'NIH:40-60': 0.4504,\n",
       " 'NIH:60-80': 0.6917,\n",
       " 'NIH:20-40': 0.3056,\n",
       " 'NIH:80-': 0.6869,\n",
       " 'NIH:0-20': 0.935,\n",
       " 'CXP:Male': 0.1985}"
      ]
     },
     "execution_count": 14,
     "metadata": {},
     "output_type": "execute_result"
    }
   ],
   "source": [
    "P"
   ]
  },
  {
   "cell_type": "markdown",
   "metadata": {},
   "source": [
    "## CXP correlation Age"
   ]
  },
  {
   "cell_type": "code",
   "execution_count": 15,
   "metadata": {},
   "outputs": [],
   "source": [
    "WantAge_CXP = pd.read_csv(\"./CXP/results/WantAge.csv\")"
   ]
  },
  {
   "cell_type": "code",
   "execution_count": 16,
   "metadata": {},
   "outputs": [
    {
     "name": "stdout",
     "output_type": "stream",
     "text": [
      "correlation coefficient per subgrpus\n",
      "CXP 40-60 Corr: (0.30304156759183426, 0.2922551829232988)\n",
      "CXP:60-80Passed the test\n",
      "CXP 60-80 Corr: (0.8528272494492379, 0.00010602245560994435)\n",
      "CXP 20-40 Corr: (0.5087686313077648, 0.06318514980585116)\n",
      "CXP 80- Corr: (0.7355173398094695, 0.002717373065316159)\n",
      "CXP 0-20 Corr: (0.44586751920297113, 0.11006282146974763)\n"
     ]
    }
   ],
   "source": [
    "print(\"correlation coefficient per subgrpus\")\n",
    "GAPs = {\"Gap_40-60_mean\":\"%40-60\", \"Gap_60-80_mean\":\"%60-80\",\"Gap_20-40_mean\":\"%20-40\",\"Gap_80-_mean\":\"%80-\",\"Gap_0-20_mean\":\"%0-20\"}\n",
    "\n",
    "for key, values in GAPs.items():\n",
    "    noNAN = WantAge_CXP[[key,values]].dropna(subset=[key])\n",
    "    \n",
    "    corr = stats.pearsonr(noNAN[key], noNAN[values])\n",
    "    groupname = \"CXP:\"+values[1:]\n",
    "    correlation[groupname] = round(corr[0],4)\n",
    "    P[groupname] = round(corr[1],4)\n",
    "    if round(corr[1],4) <=Thereshold:\n",
    "        Passed.append(groupname)\n",
    "        print(groupname+\"Passed the test\")\n",
    "    print(\"CXP \"+values[1:]+ \" Corr:\",stats.pearsonr(noNAN[key], noNAN[values]) )"
   ]
  },
  {
   "cell_type": "code",
   "execution_count": 17,
   "metadata": {},
   "outputs": [
    {
     "data": {
      "text/plain": [
       "['CXP:60-80']"
      ]
     },
     "execution_count": 17,
     "metadata": {},
     "output_type": "execute_result"
    }
   ],
   "source": [
    "Passed"
   ]
  },
  {
   "cell_type": "markdown",
   "metadata": {},
   "source": [
    "## CXR correlation Sex"
   ]
  },
  {
   "cell_type": "code",
   "execution_count": 18,
   "metadata": {},
   "outputs": [],
   "source": [
    "WantX_MIMIC = pd.read_csv(\"./MIMIC/results/WantX.csv\")"
   ]
  },
  {
   "cell_type": "code",
   "execution_count": 19,
   "metadata": {},
   "outputs": [
    {
     "name": "stdout",
     "output_type": "stream",
     "text": [
      "correlation coefficient per subgrous\n",
      "CXR:Male Pass the test\n",
      "CXR M Corr: (0.8077539996702258, 0.0004749687974687889)\n"
     ]
    }
   ],
   "source": [
    "print(\"correlation coefficient per subgrous\")\n",
    "GAPs = {\"Gap_M_mean\":\"%M\"}\n",
    "for key, values in GAPs.items():\n",
    "    noNAN = WantX_MIMIC[[key,values]].dropna(subset=[key])\n",
    "    corr = stats.pearsonr(noNAN[key], noNAN[values])\n",
    "    groupname = \"CXR:\"+preferred_name[values]\n",
    "    correlation[groupname] = round(corr[0],4)\n",
    "    P[groupname] = round(corr[1],4)\n",
    "    if round(corr[1],4) <=Thereshold:\n",
    "        Passed.append(groupname)\n",
    "        print(groupname+\" Pass the test\")\n",
    "    print(\"CXR \"+values[1:]+ \" Corr:\",stats.pearsonr(noNAN[key], noNAN[values]) )"
   ]
  },
  {
   "cell_type": "markdown",
   "metadata": {},
   "source": [
    "## CXR correlation Age"
   ]
  },
  {
   "cell_type": "code",
   "execution_count": 20,
   "metadata": {},
   "outputs": [],
   "source": [
    "WantAge_CXR = pd.read_csv(\"./MIMIC/results/WantAge.csv\")"
   ]
  },
  {
   "cell_type": "code",
   "execution_count": 21,
   "metadata": {},
   "outputs": [
    {
     "name": "stdout",
     "output_type": "stream",
     "text": [
      "correlation coefficient per subgrpus\n",
      "CXR 40-60 Corr: (0.44964895936463267, 0.10671871412969945)\n",
      "CXR:60-80Passed the test\n",
      "CXR 60-80 Corr: (0.9053141974269918, 8.460752146232555e-06)\n",
      "CXR:20-40Passed the test\n",
      "CXR 20-40 Corr: (0.9069649401020444, 7.641425116904771e-06)\n",
      "CXR 80- Corr: (0.6771883315773706, 0.007802708298002291)\n",
      "CXR 0-20 Corr: (0.6508341913580221, 0.01599162299110856)\n"
     ]
    }
   ],
   "source": [
    "print(\"correlation coefficient per subgrpus\")\n",
    "GAPs = {\"Gap_40-60_mean\":\"%40-60\", \"Gap_60-80_mean\":\"%60-80\",\"Gap_20-40_mean\":\"%20-40\",\"Gap_80-_mean\":\"%80-\",\"Gap_0-20_mean\":\"%0-20\"}\n",
    "\n",
    "for key, values in GAPs.items():\n",
    "    noNAN = WantAge_CXR[[key,values]].dropna(subset=[key])\n",
    "    corr = stats.pearsonr(noNAN[key], noNAN[values])\n",
    "    groupname = \"CXR:\"+values[1:]\n",
    "    correlation[groupname] = round(corr[0],4)\n",
    "    P[groupname] = corr[1]\n",
    "    if round(corr[1],4) <=Thereshold:\n",
    "        Passed.append(groupname)\n",
    "        print(groupname+\"Passed the test\")\n",
    "    print(\"CXR \"+values[1:]+ \" Corr:\",stats.pearsonr(noNAN[key], noNAN[values]) )"
   ]
  },
  {
   "cell_type": "code",
   "execution_count": 22,
   "metadata": {},
   "outputs": [
    {
     "data": {
      "text/plain": [
       "0.001851851851851852"
      ]
     },
     "execution_count": 22,
     "metadata": {},
     "output_type": "execute_result"
    }
   ],
   "source": [
    "Thereshold"
   ]
  },
  {
   "cell_type": "markdown",
   "metadata": {},
   "source": [
    "## CXR correlation Race"
   ]
  },
  {
   "cell_type": "code",
   "execution_count": 23,
   "metadata": {},
   "outputs": [],
   "source": [
    "WantRace_CXR = pd.read_csv(\"./MIMIC/results/WantR.csv\")"
   ]
  },
  {
   "cell_type": "code",
   "execution_count": 24,
   "metadata": {},
   "outputs": [
    {
     "data": {
      "text/plain": [
       "[Empty DataFrame\n",
       " Columns: [Unnamed: 0, diseases, diseases_abbr, Distance, %White, Gap_W_mean, CI_W, %Black, Gap_B_mean, CI_B, %Hisp, Gap_H_mean, CI_H, %Other, Gap_Ot_mean, CI_Ot, %Asian, Gap_As_mean, CI_As, %American, Gap_Am_mean, CI_Am]\n",
       " Index: []\n",
       " \n",
       " [0 rows x 22 columns]]"
      ]
     },
     "execution_count": 24,
     "metadata": {},
     "output_type": "execute_result"
    }
   ],
   "source": [
    "[WantRace_CXR.head(0)]"
   ]
  },
  {
   "cell_type": "code",
   "execution_count": 25,
   "metadata": {},
   "outputs": [
    {
     "name": "stdout",
     "output_type": "stream",
     "text": [
      "correlation coefficient per subgrpus\n",
      "CXR White Corr: (0.7093631262297995, 0.004493752613664629)\n",
      "CXR Black Corr: (0.6640933593271126, 0.009591971631078576)\n",
      "CXR Hisp Corr: (0.45954159226369007, 0.09830215271911284)\n",
      "CXR Other Corr: (0.6441131792864936, 0.012912954042500096)\n",
      "CXR Asian Corr: (0.1831157341307852, 0.5309141560884056)\n",
      "CXR American Corr: (0.5955530532997229, 0.09062235418463929)\n"
     ]
    }
   ],
   "source": [
    "print(\"correlation coefficient per subgrpus\")\n",
    "GAPs = {\"Gap_W_mean\":\"%White\", \"Gap_B_mean\":\"%Black\",\"Gap_H_mean\":\"%Hisp\",\n",
    "        \"Gap_Ot_mean\":\"%Other\",\"Gap_As_mean\":\"%Asian\",\"Gap_Am_mean\":\"%American\"}\n",
    "preferred_name = {\"%M\":\"Male\", \"%American\":\"Native\"}\n",
    "for key, values in GAPs.items():\n",
    "    noNAN = WantRace_CXR[[key,values]].dropna(subset=[key])\n",
    "    corr = stats.pearsonr(noNAN[key], noNAN[values])\n",
    "    if values == \"%American\":\n",
    "        groupname = \"CXR:\"+preferred_name[values]\n",
    "    else:\n",
    "        groupname = \"CXR:\"+values[1:]\n",
    "    correlation[groupname] = round(corr[0],4)\n",
    "    P[groupname] = round(corr[1],4)\n",
    "    if round(corr[1],4) <=Thereshold:\n",
    "        Passed.append(groupname)\n",
    "        print(groupname+\" Pass the test\")\n",
    "    print(\"CXR \"+values[1:]+ \" Corr:\",stats.pearsonr(noNAN[key], noNAN[values]) )"
   ]
  },
  {
   "cell_type": "code",
   "execution_count": 26,
   "metadata": {},
   "outputs": [
    {
     "data": {
      "text/plain": [
       "['CXP:60-80', 'CXR:Male', 'CXR:60-80', 'CXR:20-40']"
      ]
     },
     "execution_count": 26,
     "metadata": {},
     "output_type": "execute_result"
    }
   ],
   "source": [
    "Passed"
   ]
  },
  {
   "cell_type": "code",
   "execution_count": 27,
   "metadata": {},
   "outputs": [
    {
     "data": {
      "text/plain": [
       "{'NIH:Male': 0.3049,\n",
       " 'NIH:40-60': -0.2197,\n",
       " 'NIH:60-80': 0.1165,\n",
       " 'NIH:20-40': 0.3082,\n",
       " 'NIH:80-': 0.1375,\n",
       " 'NIH:0-20': 0.0252,\n",
       " 'CXP:Male': 0.3657,\n",
       " 'CXP:40-60': 0.303,\n",
       " 'CXP:60-80': 0.8528,\n",
       " 'CXP:20-40': 0.5088,\n",
       " 'CXP:80-': 0.7355,\n",
       " 'CXP:0-20': 0.4459,\n",
       " 'CXR:Male': 0.8078,\n",
       " 'CXR:40-60': 0.4496,\n",
       " 'CXR:60-80': 0.9053,\n",
       " 'CXR:20-40': 0.907,\n",
       " 'CXR:80-': 0.6772,\n",
       " 'CXR:0-20': 0.6508,\n",
       " 'CXR:White': 0.7094,\n",
       " 'CXR:Black': 0.6641,\n",
       " 'CXR:Hisp': 0.4595,\n",
       " 'CXR:Other': 0.6441,\n",
       " 'CXR:Asian': 0.1831,\n",
       " 'CXR:Native': 0.5956}"
      ]
     },
     "execution_count": 27,
     "metadata": {},
     "output_type": "execute_result"
    }
   ],
   "source": [
    "correlation"
   ]
  },
  {
   "cell_type": "markdown",
   "metadata": {},
   "source": [
    "## CXR correlation Insurance"
   ]
  },
  {
   "cell_type": "code",
   "execution_count": 28,
   "metadata": {},
   "outputs": [],
   "source": [
    "WantInsurance_CXR = pd.read_csv(\"./MIMIC/results/WantI.csv\")\n"
   ]
  },
  {
   "cell_type": "code",
   "execution_count": 29,
   "metadata": {},
   "outputs": [
    {
     "data": {
      "text/plain": [
       "0.001851851851851852"
      ]
     },
     "execution_count": 29,
     "metadata": {},
     "output_type": "execute_result"
    }
   ],
   "source": [
    "Thereshold"
   ]
  },
  {
   "cell_type": "code",
   "execution_count": 30,
   "metadata": {},
   "outputs": [
    {
     "name": "stdout",
     "output_type": "stream",
     "text": [
      "correlation coefficient per subgrpus\n",
      "CXR:MedicarePassed the test\n",
      "CXR Medicare Corr: (0.8428107179518548, 0.00015383746091124088)\n",
      "CXR Other Corr: (0.35426882001376375, 0.21395421080581564)\n",
      "CXR Medicaid Corr: (0.1635727506590609, 0.5763272665937798)\n"
     ]
    }
   ],
   "source": [
    "print(\"correlation coefficient per subgrpus\")\n",
    "GAPs = {\"Gap_C_mean\":\"%Medicare\", \"Gap_O_mean\":\"%Other\",\"Gap_A_mean\":\"%Medicaid\"}\n",
    "preferred_name = {\"%M\":\"Male\", \"%American\":\"Native\",\"%Other\":\"%OtherIns.\" }\n",
    "\n",
    "for key, values in GAPs.items():\n",
    "    noNAN = WantInsurance_CXR[[key,values]].dropna(subset=[key])\n",
    "    corr = stats.pearsonr(noNAN[key], noNAN[values])\n",
    "    if values == \"%Other\":\n",
    "        groupname = \"CXR:\"+preferred_name[values]\n",
    "    else:\n",
    "        groupname = \"CXR:\"+values[1:]\n",
    "    correlation[groupname] = round(corr[0],4)\n",
    "    P[groupname] = round(corr[1],4)\n",
    "    if round(corr[1],4) <=Thereshold:\n",
    "        Passed.append(groupname)\n",
    "        print(groupname+\"Passed the test\")\n",
    "    print(\"CXR \"+values[1:]+ \" Corr:\",stats.pearsonr(noNAN[key], noNAN[values]) )"
   ]
  },
  {
   "cell_type": "code",
   "execution_count": 31,
   "metadata": {},
   "outputs": [
    {
     "data": {
      "text/plain": [
       "27"
      ]
     },
     "execution_count": 31,
     "metadata": {},
     "output_type": "execute_result"
    }
   ],
   "source": [
    "len(P)"
   ]
  },
  {
   "cell_type": "code",
   "execution_count": 32,
   "metadata": {},
   "outputs": [
    {
     "data": {
      "text/plain": [
       "27"
      ]
     },
     "execution_count": 32,
     "metadata": {},
     "output_type": "execute_result"
    }
   ],
   "source": [
    "len(P)"
   ]
  },
  {
   "cell_type": "code",
   "execution_count": 33,
   "metadata": {},
   "outputs": [
    {
     "data": {
      "text/plain": [
       "['CXP:60-80', 'CXR:Male', 'CXR:60-80', 'CXR:20-40', 'CXR:Medicare']"
      ]
     },
     "execution_count": 33,
     "metadata": {},
     "output_type": "execute_result"
    }
   ],
   "source": [
    "import matplotlib.pyplot as plt\n",
    "groups = []\n",
    "Pvalues = []\n",
    "plt.figure(figsize=(16,3))\n",
    "for key, values in sorted(P.items(), key=lambda item: item[1]):\n",
    "    groups.append(key)\n",
    "    Pvalues.append(values)\n",
    "    \n",
    "myplot = plt.scatter(groups, Pvalues)\n",
    "plt.axhline(y=Thereshold,ls='--')\n",
    "for item in myplot.axes.get_xticklabels():\n",
    "    item.set_rotation(90)\n",
    "plt.scatter(groups, Pvalues)    \n",
    "Passed    "
   ]
  },
  {
   "cell_type": "code",
   "execution_count": 36,
   "metadata": {},
   "outputs": [
    {
     "name": "stdout",
     "output_type": "stream",
     "text": [
      "CXR:20-40 7.641425116904771e-06\n",
      "0.907\n",
      "CXR:60-80 8.460752146232555e-06\n",
      "0.9053\n",
      "CXP:60-80 0.0001\n",
      "0.8528\n",
      "CXR:Medicare 0.0002\n",
      "0.8428\n",
      "CXR:Male 0.0005\n",
      "0.8078\n"
     ]
    },
    {
     "data": {
      "text/plain": [
       "<matplotlib.collections.PathCollection at 0x7fb06168a550>"
      ]
     },
     "execution_count": 36,
     "metadata": {},
     "output_type": "execute_result"
    },
    {
     "data": {
      "image/png": "[encoded data removed]",
      "text/plain": [
       "<Figure size 1152x360 with 1 Axes>"
      ]
     },
     "metadata": {
      "needs_background": "light"
     },
     "output_type": "display_data"
    }
   ],
   "source": [
    "import matplotlib.pyplot as plt\n",
    "passed_dic ={}\n",
    "groups = []\n",
    "Pvalues = []\n",
    "plt.figure(figsize=(16,5))\n",
    "for key, values in sorted(P.items(), key=lambda item: item[1]):\n",
    "    if values<Thereshold:\n",
    "        passed_dic = P.items()\n",
    "        groups.append(key)\n",
    "        Pvalues.append(values)\n",
    "        print(key,values)\n",
    "        print(correlation[key])\n",
    "        \n",
    "    \n",
    "myplot = plt.scatter(groups, Pvalues)\n",
    "plt.axhline(y=Thereshold,ls='--')\n",
    "for item in myplot.axes.get_xticklabels():\n",
    "    item.set_rotation(90)\n",
    "plt.scatter(groups, Pvalues)    \n",
    " "
   ]
  },
  {
   "cell_type": "code",
   "execution_count": null,
   "metadata": {},
   "outputs": [],
   "source": []
  },
  {
   "cell_type": "code",
   "execution_count": null,
   "metadata": {},
   "outputs": [],
   "source": []
  }
 ],
 "metadata": {
  "kernelspec": {
   "display_name": "f1",
   "language": "python",
   "name": "f1"
  },
  "language_info": {
   "codemirror_mode": {
    "name": "ipython",
    "version": 3
   },
   "file_extension": ".py",
   "mimetype": "text/x-python",
   "name": "python",
   "nbconvert_exporter": "python",
   "pygments_lexer": "ipython3",
   "version": "3.6.8"
  }
 },
 "nbformat": 4,
 "nbformat_minor": 2
}
